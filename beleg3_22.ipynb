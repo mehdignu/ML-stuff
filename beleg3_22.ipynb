{
 "cells": [
  {
   "cell_type": "markdown",
   "metadata": {
    "slideshow": {
     "slide_type": "-"
    }
   },
   "source": [
    "# ML-Fundamentals - Bias Variance Tradeoff"
   ]
  },
  {
   "cell_type": "markdown",
   "metadata": {
    "slideshow": {
     "slide_type": "-"
    }
   },
   "source": [
    "## Table of Contents\n",
    "* [Introduction](#Introduction)\n",
    "* [Requirements](#Requirements) \n",
    "  * [Knowledge](#Knowledge) \n",
    "  * [Modules](#Python-Modules)\n",
    "* [Exercise](#Exercise)\n",
    " * [Data Generation](#Data-Generation)\n",
    " * [Hypothesis](#Hypothesis)\n",
    " * [Plot](#Plot)\n",
    " * [Out of Sample Error](#Out-of-Sample-Error)\n",
    " * [Repeat](#Repeat)\n",
    " * [Average and Plot](#Average-and-Plot)\n",
    " * [Bias](#Bias)\n",
    " * [Variance](#Variance)\n",
    "* [Summary and Outlook](#Summary-and-Outlook)\n",
    "* [Literature](#Literature) \n",
    "* [Licenses](#Licenses)"
   ]
  },
  {
   "cell_type": "markdown",
   "metadata": {
    "slideshow": {
     "slide_type": "-"
    }
   },
   "source": [
    "## Introduction\n",
    "\n",
    "If you completed the exercises *simple-linear-regression*, *multivariate-linear-regression* and *logistic-linear-regression* you know how to fit these models according to your training data.\n",
    "\n",
    "This alone so far has no practical use case. The benefit of learning a model is to predict unseen data. Additionally, only with unseen data your model has not learnt from, it is possible to say if your model generalizes well or not. One way to measure this, is calculating the *out of sample error* $E_{out}$, which consists of the measures *bias* and *variance*.\n",
    "\n",
    "In this notebook you will calculate two simple hypothesis for linear regression based on training data and compare them with the use of unseen validation data by calculating $E_{out}$, *bias* and *variance*."
   ]
  },
  {
   "cell_type": "markdown",
   "metadata": {
    "slideshow": {
     "slide_type": "-"
    }
   },
   "source": [
    "## Requirements\n",
    "\n",
    "### Knowledge\n",
    "\n",
    "You should have a basic knowledge of:\n",
    "- Univariate linear regression\n",
    "- Out of sample error (bias variance)\n",
    "\n",
    "Suitable sources for acquiring this knowledge are:\n",
    "- [Simple Linear Regression Notebook](http://christianherta.de/lehre/dataScience/machineLearning/basics/univariate-linear-regression.php) by Christian Herta and his [lecture slides](http://christianherta.de/lehre/dataScience/machineLearning/linearRegression.pdf) (German)\n",
    "\n",
    "- [Bias Variance Tradeoff](http://christianherta.de/lehre/dataScience/machineLearning/basics/bias-variance-tradeoff.php) by Christian Herta and his [lecture slides](http://christianherta.de/lehre/dataScience/machineLearning/bias-variance-tradeoff.pdf) (German)\n",
    "\n",
    "- [numpy quickstart](https://docs.scipy.org/doc/numpy-1.15.1/user/quickstart.html)\n",
    "- [Matplotlib tutorials](https://matplotlib.org/tutorials/index.html)"
   ]
  },
  {
   "cell_type": "markdown",
   "metadata": {
    "slideshow": {
     "slide_type": "-"
    }
   },
   "source": [
    "### Python Modules\n",
    "\n",
    "By [deep.TEACHING](https://www.deep-teaching.org/) convention, all python modules needed to run the notebook are loaded centrally at the beginning. \n"
   ]
  },
  {
   "cell_type": "code",
   "execution_count": 1,
   "metadata": {},
   "outputs": [],
   "source": [
    "import numpy as np\n",
    "import matplotlib.pyplot as plt"
   ]
  },
  {
   "cell_type": "markdown",
   "metadata": {},
   "source": [
    "## Exercise\n",
    "\n",
    "Exercise inspired by lecture 8 from:\n",
    "- Yaser Abu-Mostafa\n",
    " - [Learning from Data, Caltech Machine Learning](http://home.caltech.edu/telecourse.html) [ABU18a]\n",
    " - Or directly at [here](https://www.youtube.com/watch?v=zrEyxfl2-a8&hd=1) [ABU18b]"
   ]
  },
  {
   "cell_type": "markdown",
   "metadata": {},
   "source": [
    "Implement the following simulation for calculating the bias and variance:\n",
    "\n",
    "**Given:**\n",
    "- $p(x)$ is unformly distributed in the interval of $[0, 2\\pi]$\n",
    "- The unknown target function is the sinus function, so the targets are $y = sin(x)$\n",
    "- There is no noise on $y$\n",
    "- Hypthesis $H_1(x) = \\theta_0 + \\theta_1 x$\n",
    "- Hypthesis $H_2(x) = w$ (a constant) "
   ]
  },
  {
   "cell_type": "markdown",
   "metadata": {},
   "source": [
    "**Task:**\n",
    "- Do the following 10.000 times:\n",
    " - Draw two random examples $x^1$ and $x^2$ from $p(x)$ and calculate the corrsponding $y$s to get $(x^1,y^1), (x^2,y^2)$ *(training data)* \n",
    " - Using your *training data* calculate the parameters $\\theta_0, \\theta_1$ for $H_1$ and the parameter $w$ for $H_2(x)$\n",
    " - Numerically calculate the out of sample error $E_{out}$ for $H_1(x)$ and $H_2(x)$ for 100 data points uniformly distributed in the interval of $[0, 2\\pi]$ (*validation data*) \n",
    " \n",
    " \n",
    "- Now calculate the average $\\theta_0, \\theta_1$ and $w$ of all 10.000 experiments\n",
    "- Also calculate the mean of the out of sample error $E_{out}$ for $H_1(x)$ and $H_2(x)$\n",
    "- Use the above to calculate the *bias* and the *variance*\n",
    "- Plot the target function $sin(x)$ together with both hypothesis $H_1(x)$ and $H_2(x)$ using the average $\\theta_0, \\theta_1$ and $w$\n",
    "- Considering your results, which hypothsis seems to better model the target function?\n",
    "\n",
    "Practically this explanation is all you need to solve the exercise. You are free to complete it without any further guiding or by proceeding with this notebook."
   ]
  },
  {
   "cell_type": "markdown",
   "metadata": {},
   "source": [
    "### Data Generation"
   ]
  },
  {
   "cell_type": "markdown",
   "metadata": {},
   "source": [
    "**Task:**\n",
    "\n",
    "Implement the function to draw two random training examples $(x^i,y^i)$ with:\n",
    "\n",
    "- $x^i \\in Uniform(0,2\\pi)$\n",
    "- $i \\in {1,2}$\n",
    "- $y^i = sin(x^i)$"
   ]
  },
  {
   "cell_type": "code",
   "execution_count": 2,
   "metadata": {},
   "outputs": [],
   "source": [
    "def train_data():\n",
    "    n = 2\n",
    "    x = np.random.uniform(0, 2*np.pi,  n)\n",
    "    y = np.sin(x)\n",
    "    return (x,y)\n"
   ]
  },
  {
   "cell_type": "code",
   "execution_count": 3,
   "metadata": {},
   "outputs": [
    {
     "name": "stdout",
     "output_type": "stream",
     "text": [
      "[5.03749131 4.40768303] [-0.94761805 -0.95393521]\n"
     ]
    }
   ],
   "source": [
    "x_train, y_train  = train_data()\n",
    "print(x_train, y_train)"
   ]
  },
  {
   "cell_type": "code",
   "execution_count": 4,
   "metadata": {},
   "outputs": [],
   "source": [
    "# If your implementation is correct, these tests should not throw an exception\n",
    "\n",
    "assert len(x_train) == 2\n",
    "assert len(y_train) == 2\n",
    "np.testing.assert_array_equal(np.sin(x_train), y_train)\n",
    "for i in range(1000):\n",
    "    x_tmp, _ = train_data()\n",
    "    assert x_tmp.min() >= 0.0\n",
    "    assert x_tmp.max() <= 2*np.pi"
   ]
  },
  {
   "cell_type": "markdown",
   "metadata": {},
   "source": [
    "### Hypothesis\n",
    "\n",
    "For our training data we will now model two different hypothesis:\n",
    "\n",
    "$$H_1(x) = \\theta_0 + \\theta_1 x$$\n",
    "\n",
    "and \n",
    "\n",
    "$$H_2(x) = w$$\n",
    "\n",
    "**Task:**\n",
    "\n",
    "Implement the functions to calculate the parameters $\\theta_0, \\theta_1$ for $H_1$ and $w$ for $H_2$ using the two drawn examples. \n",
    "\n",
    "For later purpose (passing functions as argument) it is important that both functions accept the same amount of parameters and also return the same amount. Therefore we also pass $x$ to `get_w`, although we do not need it. And for the same reason `get_thetas` should return a list of two values instead of two seperate values."
   ]
  },
  {
   "cell_type": "code",
   "execution_count": 5,
   "metadata": {},
   "outputs": [],
   "source": [
    "def get_thetas(x, y):\n",
    "    theta1= (y[1] - y[0])/(x[1] - x[0])\n",
    "    theta0= y[1] - theta1 * x[1]\n",
    "    return (theta0, theta1)\n",
    "\n",
    "def get_w(x, y):\n",
    "    theta = np.mean(y)\n",
    "    return theta"
   ]
  },
  {
   "cell_type": "code",
   "execution_count": 6,
   "metadata": {},
   "outputs": [
    {
     "name": "stdout",
     "output_type": "stream",
     "text": [
      "-0.9981456034982655 0.010030301497843792\n",
      "-0.9507766303135803\n"
     ]
    }
   ],
   "source": [
    "thetas = get_thetas(x_train, y_train)\n",
    "w = get_w(x_train, y_train)\n",
    "print(thetas[0], thetas[1])\n",
    "print(w)"
   ]
  },
  {
   "cell_type": "code",
   "execution_count": 7,
   "metadata": {},
   "outputs": [],
   "source": [
    "# If your implementation is correct, these tests should not throw an exception\n",
    "\n",
    "x_train_temp = np.array([0,1])\n",
    "y_train_temp = np.array([np.sin(x_i) for x_i in x_train_temp])\n",
    "thetas_test = get_thetas(x_train_temp, y_train_temp)\n",
    "w_test = get_w(x_train_temp, y_train_temp)\n",
    "\n",
    "np.testing.assert_almost_equal(thetas_test[0], 0.0)\n",
    "np.testing.assert_almost_equal(thetas_test[1], 0.8414709848078965)\n",
    "np.testing.assert_almost_equal(w_test, 0.42073549240394825)"
   ]
  },
  {
   "cell_type": "markdown",
   "metadata": {},
   "source": [
    "**Task:**\n",
    "\n",
    "Implement the hypothesis $H_1$ and $H_2$. Your function should return a function."
   ]
  },
  {
   "cell_type": "code",
   "execution_count": 8,
   "metadata": {
    "slideshow": {
     "slide_type": "-"
    }
   },
   "outputs": [],
   "source": [
    "def get_hypothesis_1(thetas):\n",
    "    return lambda x: thetas[0] + thetas[1] * x\n",
    "    \n",
    "def get_hypothesis_2(w):\n",
    "    return lambda x: np.ones_like(x) * w"
   ]
  },
  {
   "cell_type": "code",
   "execution_count": 9,
   "metadata": {},
   "outputs": [],
   "source": [
    "# validation data (which our model has not learnt from, but we know the labels)\n",
    "\n",
    "x_validation = np.linspace(0, 2*np.pi, 100)\n",
    "y_validation = np.sin(x_validation)"
   ]
  },
  {
   "cell_type": "code",
   "execution_count": 10,
   "metadata": {},
   "outputs": [],
   "source": [
    "# If your implementation is correct, these tests should not throw an exception\n",
    "\n",
    "h1_test = get_hypothesis_1(thetas_test)\n",
    "h2_test = get_hypothesis_2(w_test)\n",
    "np.testing.assert_almost_equal(h1_test(x_validation)[10], 0.5340523361780719)\n",
    "np.testing.assert_almost_equal(h2_test(x_validation)[10], 0.42073549240394825)"
   ]
  },
  {
   "cell_type": "markdown",
   "metadata": {},
   "source": [
    "### Plot\n",
    "\n",
    "Following the original exercise it is not yet necessary to plot anything. But it also does not hurt to do so, since we need to implement code for the plot anyways."
   ]
  },
  {
   "cell_type": "markdown",
   "metadata": {},
   "source": [
    "**Task:**\n",
    "\n",
    "Write the function to plot:\n",
    "- the two examples $(x^1,y^1)$ and $(x^2,y^2)$\n",
    "- the true target function $sin(x)$ in the interval $[0, 2 \\pi]$.\n",
    "- the hypothesis $H_1$ in the interval $[0, 2 \\pi]$\n",
    "- the hypothesis $H_2$ in the interval $[0, 2 \\pi]$\n",
    "    \n",
    "Your plot should look similar to this one:\n",
    "\n",
    "<img src=\"https://gitlab.com/deep.TEACHING/educational-materials/raw/dev/media/klaus/exercise-bias-variance-sin-h1-h2-one-example.png\" width=\"512\" alt=\"internet connection needed\">"
   ]
  },
  {
   "cell_type": "code",
   "execution_count": 11,
   "metadata": {},
   "outputs": [],
   "source": [
    "def plot_true_target_function_x_y_h1_h2(x, y, hypothesis1, hypothesis2):\n",
    "    X_logplot = np.linspace(0, 7, 1000)\n",
    "    target= np.sin(X_logplot)\n",
    "    y_h1 = hypothesis1(X_logplot)\n",
    "    y_h2 = hypothesis2(X_logplot)\n",
    "    plt.plot(X_logplot, target)\n",
    "    plt.plot(X_logplot, y_h1)\n",
    "    plt.plot(X_logplot, y_h2)\n",
    "    if(len(x)>0 and len(y)>0):\n",
    "        plt.plot(x[0], y[0], \"ob\")\n",
    "        plt.plot(x[1] , y[1], \"ob\")\n",
    "    plt.show()\n"
   ]
  },
  {
   "cell_type": "code",
   "execution_count": 12,
   "metadata": {},
   "outputs": [
    {
     "data": {
      "image/png": "[encoded data removed]",
      "text/plain": [
       "<Figure size 432x288 with 1 Axes>"
      ]
     },
     "metadata": {
      "needs_background": "light"
     },
     "output_type": "display_data"
    }
   ],
   "source": [
    "thetas = get_thetas(x_train, y_train)\n",
    "w = get_w(x_train, y_train)\n",
    "plot_true_target_function_x_y_h1_h2(x_train, y_train, get_hypothesis_1(thetas), get_hypothesis_2(w))"
   ]
  },
  {
   "cell_type": "markdown",
   "metadata": {},
   "source": [
    "### Out of Sample Error\n",
    "\n",
    "The out of sample error $E_{out}(H)$ is the the expected value of the test error, which can be estimated with unseen validation data $x', y'$ with:\n",
    "\n",
    "$$\n",
    "E_{out}(H) = \\mathbb E_{x,y}[loss(H(x),y)] \\approx \\frac{1}{m} \\sum^m loss(H(x'), y') \n",
    "$$\n",
    "\n",
    "**Task:**\n",
    "\n",
    "Implement the function to numerically calculate the out of sample error $E_{out}$ with the mean squared error as loss function."
   ]
  },
  {
   "cell_type": "code",
   "execution_count": 13,
   "metadata": {
    "slideshow": {
     "slide_type": "-"
    }
   },
   "outputs": [],
   "source": [
    "def out_of_sample_error(y_preds, y):\n",
    "    return np.mean((y_preds - y)**2)"
   ]
  },
  {
   "cell_type": "code",
   "execution_count": 14,
   "metadata": {},
   "outputs": [],
   "source": [
    "# If your implementation is correct, these tests should not throw an exception\n",
    "\n",
    "e_out_h1_test = out_of_sample_error(h1_test(x_validation), y_validation)\n",
    "np.testing.assert_almost_equal(e_out_h1_test, 11.525485917588728)"
   ]
  },
  {
   "cell_type": "markdown",
   "metadata": {},
   "source": [
    "### Repeat\n",
    "\n",
    "**Task:**\n",
    "\n",
    "Now instead of drawing two examples once, draw two examples 10.000 times and calculate $E_{out}$ for $H_1$ and $H_2$ given the validation data.\n",
    "\n",
    "For each run, keep track of the following parameters and return them at the end of the function:\n",
    "- $(x^1,x^2)$\n",
    "- $(y^1,y^2)$\n",
    "- $\\theta_0$\n",
    "- $\\theta_1$\n",
    "- $w$.\n",
    "- $E_{out}$\n"
   ]
  },
  {
   "cell_type": "code",
   "execution_count": 15,
   "metadata": {},
   "outputs": [],
   "source": [
    "def run_experiment(m, x_val, y_val):\n",
    "    xs = np.zeros([m, 2])\n",
    "    ys = np.zeros([m, 2])\n",
    "    t0s = np.zeros([m])\n",
    "    t1s = np.zeros([m])\n",
    "    ws = np.zeros([m])\n",
    "    e_out_h1s = np.zeros([m])\n",
    "    e_out_h2s = np.zeros([m])\n",
    "    \n",
    "    for i in range(m):\n",
    "        rand = np.random.randint(0, len(x_val))\n",
    "        \n",
    "        #pick random x and y\n",
    "        x1 = x_val[rand]\n",
    "        y1 = y_val[rand]\n",
    "        \n",
    "        #pick random x and y again\n",
    "        rand = np.random.randint(0, len(x_val))\n",
    "        x2 = x_val[rand]\n",
    "        y2 = y_val[rand]\n",
    "        \n",
    "        #save the picked data\n",
    "        xs[i] = np.array([x1, x2])\n",
    "        ys[i] = np.array([y1, y2])\n",
    "        \n",
    "        #calculate thetas -> model 1 based on the given training data (consisting of two points)\n",
    "        thetas = get_thetas(xs[i], ys[i])\n",
    "        t0s[i] = thetas[0]\n",
    "        t1s[i] = thetas[1]\n",
    "        \n",
    "        #calculate w -> model 2 based on the given training data (consisting of two points)\n",
    "        w = get_w(xs[i], ys[i])\n",
    "        ws[i] = w\n",
    "        \n",
    "        #generate hypothesis 1, its out of sample error and save it\n",
    "        h1 = get_hypothesis_1(thetas)\n",
    "        e_out_h1 = out_of_sample_error(h1(x_val), y_val)\n",
    "        e_out_h1s[i] = e_out_h1\n",
    "        \"\"\"if (np.isnan(e_out_h1s[i])):\n",
    "            print(thetas)\n",
    "            print(\"\\n\")\"\"\"\n",
    "        \n",
    "        #generate hypothesis 2, its out of sample error and save it\n",
    "        h2 = get_hypothesis_2(w)\n",
    "        e_out_h2 = out_of_sample_error(h2(x_val), y_val)\n",
    "        e_out_h2s[i] = e_out_h2\n",
    "    \n",
    "    return xs, ys, t0s, t1s, ws, e_out_h1s, e_out_h2s"
   ]
  },
  {
   "cell_type": "code",
   "execution_count": 16,
   "metadata": {},
   "outputs": [
    {
     "name": "stderr",
     "output_type": "stream",
     "text": [
      "/usr/local/lib/python3.7/site-packages/ipykernel_launcher.py:2: RuntimeWarning: invalid value encountered in double_scalars\n",
      "  \n"
     ]
    }
   ],
   "source": [
    "m=10000\n",
    "x_validation = np.linspace(0, 2*np.pi, m)\n",
    "y_validation = np.sin(x_validation)\n",
    "xs, ys, t0s, t1s, ws, e_out_h1s, e_out_h2s = run_experiment(\n",
    "    m, x_validation, y_validation)"
   ]
  },
  {
   "cell_type": "markdown",
   "metadata": {},
   "source": [
    "### Average and Plot\n",
    "\n",
    "\n",
    "Now we can calculate the average of $\\theta_0, \\theta_1$, $w$ and $E_{out}$ and already plot the resulting averaged $\\tilde H_1$ and $\\tilde H_2$ together with the target function $sin(x)$.\n",
    "\n",
    "Your plot should look similar to the one below:\n",
    "\n",
    "<img src=\"https://gitlab.com/deep.TEACHING/educational-materials/raw/dev/media/klaus/exercise-bias-variance-sin-h1-h2-avg.png\" width=\"512\" alt=\"internet connection needed\">"
   ]
  },
  {
   "cell_type": "code",
   "execution_count": 17,
   "metadata": {
    "slideshow": {
     "slide_type": "-"
    }
   },
   "outputs": [],
   "source": [
    "t0_avg = t0s.mean()\n",
    "t1_avg = t1s.mean()\n",
    "thetas_avg = [t0_avg, t1_avg]\n",
    "w_avg = ws.mean()\n",
    "h1_avg = get_hypothesis_1(thetas_avg)\n",
    "h2_avg = get_hypothesis_2(w_avg)"
   ]
  },
  {
   "cell_type": "code",
   "execution_count": 18,
   "metadata": {},
   "outputs": [
    {
     "data": {
      "image/png": "[encoded data removed]",
      "text/plain": [
       "<Figure size 432x288 with 1 Axes>"
      ]
     },
     "metadata": {
      "needs_background": "light"
     },
     "output_type": "display_data"
    }
   ],
   "source": [
    "plot_true_target_function_x_y_h1_h2([], [], h1_avg, h2_avg)"
   ]
  },
  {
   "cell_type": "code",
   "execution_count": 19,
   "metadata": {
    "slideshow": {
     "slide_type": "-"
    }
   },
   "outputs": [
    {
     "name": "stdout",
     "output_type": "stream",
     "text": [
      "expectation of E_out of model 1: nan\n"
     ]
    }
   ],
   "source": [
    "expectation_Eout_1 = e_out_h1s.mean()\n",
    "print (\"expectation of E_out of model 1:\", expectation_Eout_1)"
   ]
  },
  {
   "cell_type": "code",
   "execution_count": 20,
   "metadata": {
    "slideshow": {
     "slide_type": "-"
    }
   },
   "outputs": [
    {
     "name": "stdout",
     "output_type": "stream",
     "text": [
      "expectation of E_out of model 2: 0.7506783059923704\n"
     ]
    }
   ],
   "source": [
    "expectation_Eout_2 = e_out_h2s.mean()\n",
    "print (\"expectation of E_out of model 2:\", expectation_Eout_2)"
   ]
  },
  {
   "cell_type": "markdown",
   "metadata": {},
   "source": [
    "### Bias\n",
    "\n",
    "The bias is defined as:\n",
    "\n",
    "$$\n",
    "bias = \\mathbb E_x \\left[(\\tilde H(x') - y')^2\\right]\n",
    "$$\n",
    "\n",
    "with:\n",
    "\n",
    "- the average hypothesis $\\tilde H$ and it's output on the unseen data $\\tilde H(x')$\n",
    "- $y'$ the ground truth (true) labels for $x'$\n",
    "\n",
    "**Task:**\n",
    "\n",
    "Implement the function to calculate the mean bias ."
   ]
  },
  {
   "cell_type": "code",
   "execution_count": 21,
   "metadata": {
    "slideshow": {
     "slide_type": "-"
    }
   },
   "outputs": [],
   "source": [
    "def bias(y_true, y_predicted):\n",
    "    return np.square(y_predicted - y_true).mean()\n",
    "    #return np.mean((y_predicted - y_true) ** 2)"
   ]
  },
  {
   "cell_type": "code",
   "execution_count": 22,
   "metadata": {
    "slideshow": {
     "slide_type": "-"
    }
   },
   "outputs": [
    {
     "name": "stdout",
     "output_type": "stream",
     "text": [
      "Bias of model 1: nan\n"
     ]
    }
   ],
   "source": [
    "bias_1 = bias(y_validation,  h1_avg(x_validation))\n",
    "print (\"Bias of model 1:\", bias_1)"
   ]
  },
  {
   "cell_type": "code",
   "execution_count": 23,
   "metadata": {
    "slideshow": {
     "slide_type": "-"
    }
   },
   "outputs": [
    {
     "name": "stdout",
     "output_type": "stream",
     "text": [
      "Bias of model 2: 0.4999506925687248\n"
     ]
    }
   ],
   "source": [
    "bias_2 = bias(y_validation,  h2_avg(x_validation))\n",
    "print (\"Bias of model 2:\", bias_2)"
   ]
  },
  {
   "cell_type": "markdown",
   "metadata": {},
   "source": [
    "### Variance\n",
    "\n",
    "Variance:\n",
    "\n",
    "$$\n",
    "variance = \\mathbb E_x \\left[ \\mathbb E_D \\left[(H^D(x') - \\tilde H(x'))^2 \\right] \\right]\n",
    "$$\n",
    "\n",
    "with:\n",
    "\n",
    "- the average hypothesis $\\tilde H$ and it's output on the unseen data $\\tilde H(x')$\n",
    "- the learnt hypothesis $H^D$ for training data $D$. $D$ here equals to $x$ and $y$ without the $'$\n",
    "\n",
    "**Task:**\n",
    "\n",
    "Implement the function to calculate the variances for each of the 10.000 experiements and return them as list or array.\n",
    "\n",
    "Now we benefit from our implementation of `get_w`, `get_thetas`, respectively `get_hypothesis1`,`get_hypothesis2`, which accept and return the same amount of parameters, so we can write a generalized function.\n"
   ]
  },
  {
   "cell_type": "code",
   "execution_count": 24,
   "metadata": {
    "slideshow": {
     "slide_type": "-"
    }
   },
   "outputs": [],
   "source": [
    "def variances(hypothesis_func, param_func, xs, ys, x_val, y_preds):\n",
    "    \n",
    "    Eds = []\n",
    "    \n",
    "    for x,y in zip(xs,ys):\n",
    "        current_params = param_func(x, y)\n",
    "        current_hypothesis = hypothesis_func(current_params)\n",
    "        current_hypothesis_guesses = np.array(current_hypothesis(x_val))\n",
    "        \n",
    "        average_hypothesis_guesses = np.array(y_preds)\n",
    "        \n",
    "        current_Ed =  np.mean((current_hypothesis_guesses - average_hypothesis_guesses)**2)\n",
    "        Eds.append(current_Ed)\n",
    "        \n",
    "    return np.array(Eds)"
   ]
  },
  {
   "cell_type": "code",
   "execution_count": 25,
   "metadata": {},
   "outputs": [
    {
     "name": "stderr",
     "output_type": "stream",
     "text": [
      "/usr/local/lib/python3.7/site-packages/ipykernel_launcher.py:2: RuntimeWarning: invalid value encountered in double_scalars\n",
      "  \n"
     ]
    },
    {
     "name": "stdout",
     "output_type": "stream",
     "text": [
      "nan\n"
     ]
    }
   ],
   "source": [
    "vars_1 = variances(get_hypothesis_1, \n",
    "                 get_thetas, \n",
    "                 xs, ys, \n",
    "                 x_validation, \n",
    "                 h1_avg(x_validation))\n",
    "var_1_avg = vars_1.mean()\n",
    "print(var_1_avg)"
   ]
  },
  {
   "cell_type": "code",
   "execution_count": 26,
   "metadata": {},
   "outputs": [
    {
     "name": "stdout",
     "output_type": "stream",
     "text": [
      "0.2507276134236455\n"
     ]
    }
   ],
   "source": [
    "vars_2 = variances(get_hypothesis_2, \n",
    "                 get_w, \n",
    "                 xs, ys, \n",
    "                 x_validation, \n",
    "                 h2_avg(x_validation)).mean()\n",
    "var_2_avg = vars_2.mean()\n",
    "print(var_2_avg)"
   ]
  },
  {
   "cell_type": "code",
   "execution_count": 27,
   "metadata": {
    "slideshow": {
     "slide_type": "-"
    }
   },
   "outputs": [
    {
     "name": "stdout",
     "output_type": "stream",
     "text": [
      "model 1: E_out ≈ bias + variance:  nan ≈ nan + nan\n",
      "model 2: E_out ≈ bias + variance:  0.750678 ≈ 0.499951 + 0.250728\n"
     ]
    }
   ],
   "source": [
    "print(\"model 1: E_out ≈ bias + variance:  %f ≈ %f + %f\" % (expectation_Eout_1, bias_1, var_1_avg))\n",
    "print(\"model 2: E_out ≈ bias + variance:  %f ≈ %f + %f\" % (expectation_Eout_2, bias_2, var_2_avg))"
   ]
  },
  {
   "cell_type": "markdown",
   "metadata": {
    "slideshow": {
     "slide_type": "-"
    }
   },
   "source": [
    "## Summary and Outlook\n",
    "\n",
    "[TODO]"
   ]
  },
  {
   "cell_type": "markdown",
   "metadata": {
    "slideshow": {
     "slide_type": "-"
    }
   },
   "source": [
    "## Licenses\n",
    "\n",
    "### Notebook License (CC-BY-SA 4.0)\n",
    "\n",
    "*The following license applies to the complete notebook, including code cells. It does however not apply to any referenced external media (e.g., images).*\n",
    "\n",
    "Exercise: Bias Variance Tradeoff <br/>\n",
    "by Christian Herta, Klaus Strohmenger<br/>\n",
    "is licensed under a [Creative Commons Attribution-ShareAlike 4.0 International License](http://creativecommons.org/licenses/by-sa/4.0/).<br/>\n",
    "Based on a work at https://gitlab.com/deep.TEACHING.\n",
    "\n",
    "\n",
    "### Code License (MIT)\n",
    "\n",
    "*The following license only applies to code cells of the notebook.*\n",
    "\n",
    "Copyright 2018 Christian Herta, Klaus Strohmenger\n",
    "\n",
    "Permission is hereby granted, free of charge, to any person obtaining a copy of this software and associated documentation files (the \"Software\"), to deal in the Software without restriction, including without limitation the rights to use, copy, modify, merge, publish, distribute, sublicense, and/or sell copies of the Software, and to permit persons to whom the Software is furnished to do so, subject to the following conditions:\n",
    "\n",
    "The above copyright notice and this permission notice shall be included in all copies or substantial portions of the Software.\n",
    "\n",
    "THE SOFTWARE IS PROVIDED \"AS IS\", WITHOUT WARRANTY OF ANY KIND, EXPRESS OR IMPLIED, INCLUDING BUT NOT LIMITED TO THE WARRANTIES OF MERCHANTABILITY, FITNESS FOR A PARTICULAR PURPOSE AND NONINFRINGEMENT. IN NO EVENT SHALL THE AUTHORS OR COPYRIGHT HOLDERS BE LIABLE FOR ANY CLAIM, DAMAGES OR OTHER LIABILITY, WHETHER IN AN ACTION OF CONTRACT, TORT OR OTHERWISE, ARISING FROM, OUT OF OR IN CONNECTION WITH THE SOFTWARE OR THE USE OR OTHER DEALINGS IN THE SOFTWARE."
   ]
  },
  {
   "cell_type": "code",
   "execution_count": null,
   "metadata": {},
   "outputs": [],
   "source": []
  }
 ],
 "metadata": {
  "celltoolbar": "Slideshow",
  "kernelspec": {
   "display_name": "Python 3",
   "language": "python",
   "name": "python3"
  },
  "language_info": {
   "codemirror_mode": {
    "name": "ipython",
    "version": 3
   },
   "file_extension": ".py",
   "mimetype": "text/x-python",
   "name": "python",
   "nbconvert_exporter": "python",
   "pygments_lexer": "ipython3",
   "version": "3.7.1"
  }
 },
 "nbformat": 4,
 "nbformat_minor": 2
}
